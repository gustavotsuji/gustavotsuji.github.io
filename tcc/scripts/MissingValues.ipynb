{
 "cells": [
  {
   "cell_type": "code",
   "execution_count": 21,
   "metadata": {
    "collapsed": false
   },
   "outputs": [],
   "source": [
    "import pandas as pd\n",
    "import sqlite3\n",
    "\n",
    "#Carrega banco de dados via sqlite\n",
    "con = sqlite3.connect(\"database.sqlite\")\n",
    "df = pd.read_sql_query(\"\"\"SELECT id ,\n",
    "funded_amnt ,\n",
    "loan_amnt ,\n",
    "cast (replace( term, ' months', '' ) as FLOAT) as term_float,\n",
    "cast (replace( int_rate, '%', '' ) as FLOAT) as int_rate_float,\n",
    "installment ,\n",
    "annual_inc ,\n",
    "dti ,\n",
    "delinq_2yrs ,\n",
    "inq_last_6mths ,\n",
    "open_acc ,\n",
    "pub_rec ,\n",
    "revol_bal ,\n",
    "total_acc ,\n",
    "out_prncp ,\n",
    "total_pymnt ,\n",
    "total_rec_prncp ,\n",
    "total_rec_int ,\n",
    "total_rec_late_fee ,\n",
    "recoveries ,\n",
    "collection_recovery_fee ,\n",
    "last_pymnt_amnt ,\n",
    "last_credit_pull_d ,\n",
    "collections_12_mths_ex_med ,\n",
    "acc_now_delinq from loan WHERE\n",
    "funded_amnt IS NOT NULL AND\n",
    "loan_amnt IS NOT NULL AND\n",
    "term_float IS NOT NULL AND\n",
    "int_rate_float IS NOT NULL AND\n",
    "installment IS NOT NULL AND\n",
    "grade IS NOT NULL AND\n",
    "sub_grade IS NOT NULL AND\n",
    "emp_length IS NOT NULL AND\n",
    "annual_inc IS NOT NULL AND\n",
    "dti IS NOT NULL AND\n",
    "delinq_2yrs IS NOT NULL AND\n",
    "inq_last_6mths IS NOT NULL AND\n",
    "open_acc IS NOT NULL AND\n",
    "pub_rec IS NOT NULL AND\n",
    "revol_bal IS NOT NULL AND\n",
    "total_acc IS NOT NULL AND\n",
    "out_prncp IS NOT NULL AND\n",
    "total_pymnt IS NOT NULL AND\n",
    "total_rec_prncp IS NOT NULL AND\n",
    "total_rec_int IS NOT NULL AND\n",
    "total_rec_late_fee IS NOT NULL AND\n",
    "recoveries IS NOT NULL AND\n",
    "collection_recovery_fee IS NOT NULL AND\n",
    "last_pymnt_amnt IS NOT NULL AND\n",
    "last_credit_pull_d IS NOT NULL AND\n",
    "collections_12_mths_ex_med IS NOT NULL AND\n",
    "acc_now_delinq IS NOT NULL\n",
    "\"\"\", con)\n"
   ]
  },
  {
   "cell_type": "code",
   "execution_count": 22,
   "metadata": {
    "collapsed": false
   },
   "outputs": [
    {
     "name": "stdout",
     "output_type": "stream",
     "text": [
      "Missing values per column:\n",
      "id                            0\n",
      "funded_amnt                   0\n",
      "loan_amnt                     0\n",
      "term_float                    0\n",
      "int_rate_float                0\n",
      "installment                   0\n",
      "annual_inc                    0\n",
      "dti                           0\n",
      "delinq_2yrs                   0\n",
      "inq_last_6mths                0\n",
      "open_acc                      0\n",
      "pub_rec                       0\n",
      "revol_bal                     0\n",
      "total_acc                     0\n",
      "out_prncp                     0\n",
      "total_pymnt                   0\n",
      "total_rec_prncp               0\n",
      "total_rec_int                 0\n",
      "total_rec_late_fee            0\n",
      "recoveries                    0\n",
      "collection_recovery_fee       0\n",
      "last_pymnt_amnt               0\n",
      "last_credit_pull_d            0\n",
      "collections_12_mths_ex_med    0\n",
      "acc_now_delinq                0\n",
      "dtype: int64\n"
     ]
    }
   ],
   "source": [
    "#Define uma funcao para buscar missing values para aplicar na base\n",
    "def num_missing(x):\n",
    "  return sum(x.isnull())\n",
    "\n",
    "#Applying per column:\n",
    "print \"Missing values per column:\"\n",
    "print df.apply(num_missing, axis=0) #axis=0 defines that function is to be applied on each column\n"
   ]
  },
  {
   "cell_type": "code",
   "execution_count": 19,
   "metadata": {
    "collapsed": true
   },
   "outputs": [],
   "source": [
    "#Gera um csv para exportar para o spark\n",
    "df.to_csv('database_filtered.csv', sep=';', encoding='utf-8')"
   ]
  },
  {
   "cell_type": "code",
   "execution_count": 20,
   "metadata": {
    "collapsed": false
   },
   "outputs": [
    {
     "data": {
      "text/plain": [
       "id                            887186\n",
       "funded_amnt                   887186\n",
       "loan_amnt                     887186\n",
       "term_float                    887186\n",
       "int_rate_float                887186\n",
       "installment                   887186\n",
       "grade                         887186\n",
       "sub_grade                     887186\n",
       "emp_length                    887186\n",
       "annual_inc                    887186\n",
       "dti                           887186\n",
       "delinq_2yrs                   887186\n",
       "inq_last_6mths                887186\n",
       "open_acc                      887186\n",
       "pub_rec                       887186\n",
       "revol_bal                     887186\n",
       "total_acc                     887186\n",
       "out_prncp                     887186\n",
       "total_pymnt                   887186\n",
       "total_rec_prncp               887186\n",
       "total_rec_int                 887186\n",
       "total_rec_late_fee            887186\n",
       "recoveries                    887186\n",
       "collection_recovery_fee       887186\n",
       "last_pymnt_amnt               887186\n",
       "last_credit_pull_d            887186\n",
       "collections_12_mths_ex_med    887186\n",
       "acc_now_delinq                887186\n",
       "dtype: int64"
      ]
     },
     "execution_count": 20,
     "metadata": {},
     "output_type": "execute_result"
    }
   ],
   "source": [
    "#Faz uma verificacao dos dados para garantir que nao existe missing values\n",
    "df.count()"
   ]
  },
  {
   "cell_type": "code",
   "execution_count": null,
   "metadata": {
    "collapsed": true
   },
   "outputs": [],
   "source": []
  }
 ],
 "metadata": {
  "anaconda-cloud": {},
  "kernelspec": {
   "display_name": "Python [conda root]",
   "language": "python",
   "name": "conda-root-py"
  },
  "language_info": {
   "codemirror_mode": {
    "name": "ipython",
    "version": 2
   },
   "file_extension": ".py",
   "mimetype": "text/x-python",
   "name": "python",
   "nbconvert_exporter": "python",
   "pygments_lexer": "ipython2",
   "version": "2.7.12"
  }
 },
 "nbformat": 4,
 "nbformat_minor": 1
}
